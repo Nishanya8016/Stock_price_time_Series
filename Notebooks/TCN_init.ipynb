{
 "cells": [
  {
   "cell_type": "code",
   "execution_count": 2,
   "id": "370a3ca3-71f8-49a4-aee0-90e52b0330d0",
   "metadata": {},
   "outputs": [],
   "source": [
    "import torch\n",
    "import torch.nn as nn\n",
    "import numpy as np\n",
    "import pandas as pd\n",
    "from sklearn.metrics import mean_absolute_error, mean_squared_error, accuracy_score, f1_score, r2_score\n",
    "import math"
   ]
  },
  {
   "cell_type": "code",
   "execution_count": 3,
   "id": "e770bd74-5bfb-4b92-ab9f-4711ca4ba6c3",
   "metadata": {},
   "outputs": [],
   "source": [
    "class Chomp1d(nn.Module):\n",
    "    def __init__(self, chomp_size):\n",
    "        super().__init__()\n",
    "        self.chomp_size = chomp_size\n",
    "    def forward(self, x):\n",
    "        return x[:, :, :-self.chomp_size]\n",
    "\n",
    "class TemporalBlock(nn.Module):\n",
    "    def __init__(self, in_channels, out_channels, kernel_size, dilation, padding):\n",
    "        super().__init__()\n",
    "        self.conv1 = nn.Conv1d(in_channels, out_channels, kernel_size, padding=padding, dilation=dilation)\n",
    "        self.chomp1 = Chomp1d(padding)\n",
    "        self.relu1 = nn.ReLU()\n",
    "        self.net = nn.Sequential(self.conv1, self.chomp1, self.relu1)\n",
    "    def forward(self, x):\n",
    "        return self.net(x)\n",
    "\n",
    "class TCN(nn.Module):\n",
    "    def __init__(self, num_inputs, num_channels, kernel_size=3):\n",
    "        super().__init__()\n",
    "        layers = []\n",
    "        for i in range(len(num_channels)):\n",
    "            dilation_size = 2 ** i\n",
    "            in_ch = num_inputs if i == 0 else num_channels[i-1]\n",
    "            out_ch = num_channels[i]\n",
    "            padding = (kernel_size - 1) * dilation_size\n",
    "            layers.append(TemporalBlock(in_ch, out_ch, kernel_size, dilation=dilation_size, padding=padding))\n",
    "        self.network = nn.Sequential(*layers)\n",
    "        self.linear = nn.Linear(num_channels[-1], 1)\n",
    "    def forward(self, x):\n",
    "        y = self.network(x)\n",
    "        return self.linear(y[:, :, -1])"
   ]
  },
  {
   "cell_type": "markdown",
   "id": "5fef5026-146e-4c87-9b0a-ef9eb02c02fe",
   "metadata": {},
   "source": [
    "## Data Preparation and rolling evaluation"
   ]
  },
  {
   "cell_type": "code",
   "execution_count": 5,
   "id": "4c288907-0735-4c83-846d-4ac0e3eb2cd9",
   "metadata": {},
   "outputs": [],
   "source": [
    "# Load dataset\n",
    "df = pd.read_csv(\"RELIANCE.csv\")\n",
    "df['Date'] = pd.to_datetime(df['Date'])\n",
    "df = df[['Date', 'Close']].dropna()\n",
    "df = df.sort_values(\"Date\")\n",
    "df['LogReturn'] = np.log(df['Close'] / df['Close'].shift(1))\n",
    "df['RealizedVol'] = df['LogReturn'].rolling(window=5).apply(lambda x: np.sqrt(np.mean(x**2)))\n",
    "df.dropna(inplace=True)\n",
    "\n",
    "# Normalize\n",
    "from sklearn.preprocessing import MinMaxScaler\n",
    "scaler = MinMaxScaler()\n",
    "df['Close_scaled'] = scaler.fit_transform(df[['Close']])\n",
    "\n",
    "# TCN inputs\n",
    "def create_sequences(data, window):\n",
    "    X, y = [], []\n",
    "    for i in range(len(data) - window):\n",
    "        X.append(data[i:i+window])\n",
    "        y.append(data[i+window])\n",
    "    return np.array(X), np.array(y)"
   ]
  },
  {
   "cell_type": "code",
   "execution_count": 6,
   "id": "5cc166fe-e4d7-4653-a4c1-d27f8f119ede",
   "metadata": {},
   "outputs": [],
   "source": [
    "window = 20\n",
    "X, y = create_sequences(df['Close_scaled'].values, window)\n",
    "\n",
    "# Convert to torch tensors\n",
    "X_tensor = torch.FloatTensor(X).unsqueeze(1)  # (N, 1, T)\n",
    "y_tensor = torch.FloatTensor(y)"
   ]
  },
  {
   "cell_type": "code",
   "execution_count": 8,
   "id": "00769268-f384-499e-8383-60378b7b3d0a",
   "metadata": {},
   "outputs": [
    {
     "name": "stdout",
     "output_type": "stream",
     "text": [
      "\n",
      " TCN Rolling Evaluation Summary:\n",
      "\n",
      "Price Prediction: MAE = 70.4374, RMSE = 70.4374\n",
      " Direction Prediction: Accuracy = 0.4483, F1 = 0.4483\n",
      " Volatility Prediction: RMSE = 0.002093\n"
     ]
    }
   ],
   "source": [
    "# Rolling evaluation\n",
    "mae_list, rmse_list, acc_list, f1_list, vol_rmse_list = [], [], [], [], []\n",
    "\n",
    "device = torch.device(\"cuda\" if torch.cuda.is_available() else \"cpu\")\n",
    "\n",
    "for i in range(len(X_tensor) - 30, len(X_tensor) - 1):\n",
    "    model = TCN(num_inputs=1, num_channels=[16, 16])\n",
    "    model.to(device)\n",
    "    criterion = nn.MSELoss()\n",
    "    optimizer = torch.optim.Adam(model.parameters(), lr=0.01)\n",
    "\n",
    "    X_train = X_tensor[:i].to(device)\n",
    "    y_train = y_tensor[:i].to(device)\n",
    "\n",
    "    # Train\n",
    "    model.train()\n",
    "    for epoch in range(50):\n",
    "        optimizer.zero_grad()\n",
    "        output = model(X_train)\n",
    "        loss = criterion(output.squeeze(), y_train)\n",
    "        loss.backward()\n",
    "        optimizer.step()\n",
    "\n",
    "    # Predict next value\n",
    "    model.eval()\n",
    "    with torch.no_grad():\n",
    "        pred = model(X_tensor[i].unsqueeze(0).to(device)).item()\n",
    "        actual = y_tensor[i + 1].item()\n",
    "        prev = y_tensor[i].item()\n",
    "\n",
    "    # Reverse scaling\n",
    "    pred_real = scaler.inverse_transform([[pred]])[0][0]\n",
    "    actual_real = scaler.inverse_transform([[actual]])[0][0]\n",
    "    prev_real = scaler.inverse_transform([[prev]])[0][0]\n",
    "\n",
    "    # Price metrics\n",
    "    mae_list.append(mean_absolute_error([actual_real], [pred_real]))\n",
    "    rmse_list.append(math.sqrt(mean_squared_error([actual_real], [pred_real])))\n",
    "\n",
    "    # Direction\n",
    "    true_dir = int(actual_real > prev_real)\n",
    "    pred_dir = int(pred_real > prev_real)\n",
    "    acc_list.append(accuracy_score([true_dir], [pred_dir]))\n",
    "    f1_list.append(f1_score([true_dir], [pred_dir], zero_division=1))\n",
    "\n",
    "    # Volatility (naive)\n",
    "    actual_vol = df['RealizedVol'].iloc[i + window + 1]\n",
    "    pred_vol = df['RealizedVol'].iloc[i + window]\n",
    "    if not np.isnan(actual_vol) and not np.isnan(pred_vol):\n",
    "        vol_rmse_list.append(math.sqrt(mean_squared_error([actual_vol], [pred_vol])))\n",
    "\n",
    "# Print results\n",
    "print(\"\\n TCN Rolling Evaluation Summary:\\n\")\n",
    "print(f\"Price Prediction: MAE = {np.mean(mae_list):.4f}, RMSE = {np.mean(rmse_list):.4f}\")\n",
    "print(f\" Direction Prediction: Accuracy = {np.mean(acc_list):.4f}, F1 = {np.mean(f1_list):.4f}\")\n",
    "print(f\" Volatility Prediction: RMSE = {np.mean(vol_rmse_list):.6f}\")"
   ]
  },
  {
   "cell_type": "code",
   "execution_count": null,
   "id": "c610ad25-f3cb-410a-846c-6df82ddeaba6",
   "metadata": {},
   "outputs": [],
   "source": []
  }
 ],
 "metadata": {
  "kernelspec": {
   "display_name": "Python 3 (ipykernel)",
   "language": "python",
   "name": "python3"
  },
  "language_info": {
   "codemirror_mode": {
    "name": "ipython",
    "version": 3
   },
   "file_extension": ".py",
   "mimetype": "text/x-python",
   "name": "python",
   "nbconvert_exporter": "python",
   "pygments_lexer": "ipython3",
   "version": "3.12.4"
  }
 },
 "nbformat": 4,
 "nbformat_minor": 5
}
