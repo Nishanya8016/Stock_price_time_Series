{
 "cells": [
  {
   "cell_type": "markdown",
   "id": "ce4d8d87-c81c-4778-8773-0b9448131a49",
   "metadata": {},
   "source": [
    "# Time Series Transformer Model"
   ]
  },
  {
   "cell_type": "code",
   "execution_count": 1,
   "id": "58eee9fc-b2e2-4707-9c36-3a99c84b040a",
   "metadata": {},
   "outputs": [
    {
     "name": "stdout",
     "output_type": "stream",
     "text": [
      "Requirement already satisfied: torch in c:\\users\\asus\\appdata\\local\\programs\\python\\python312\\lib\\site-packages (2.6.0)\n",
      "Requirement already satisfied: numpy in c:\\users\\asus\\appdata\\local\\programs\\python\\python312\\lib\\site-packages (2.0.1)\n",
      "Requirement already satisfied: pandas in c:\\users\\asus\\appdata\\local\\programs\\python\\python312\\lib\\site-packages (2.2.2)\n",
      "Requirement already satisfied: matplotlib in c:\\users\\asus\\appdata\\local\\programs\\python\\python312\\lib\\site-packages (3.9.1)\n",
      "Requirement already satisfied: filelock in c:\\users\\asus\\appdata\\local\\programs\\python\\python312\\lib\\site-packages (from torch) (3.18.0)\n",
      "Requirement already satisfied: typing-extensions>=4.10.0 in c:\\users\\asus\\appdata\\local\\programs\\python\\python312\\lib\\site-packages (from torch) (4.12.2)\n",
      "Requirement already satisfied: networkx in c:\\users\\asus\\appdata\\local\\programs\\python\\python312\\lib\\site-packages (from torch) (3.4.2)\n",
      "Requirement already satisfied: jinja2 in c:\\users\\asus\\appdata\\local\\programs\\python\\python312\\lib\\site-packages (from torch) (3.1.4)\n",
      "Requirement already satisfied: fsspec in c:\\users\\asus\\appdata\\local\\programs\\python\\python312\\lib\\site-packages (from torch) (2025.3.2)\n",
      "Requirement already satisfied: setuptools in c:\\users\\asus\\appdata\\local\\programs\\python\\python312\\lib\\site-packages (from torch) (72.1.0)\n",
      "Requirement already satisfied: sympy==1.13.1 in c:\\users\\asus\\appdata\\local\\programs\\python\\python312\\lib\\site-packages (from torch) (1.13.1)\n",
      "Requirement already satisfied: mpmath<1.4,>=1.1.0 in c:\\users\\asus\\appdata\\local\\programs\\python\\python312\\lib\\site-packages (from sympy==1.13.1->torch) (1.3.0)\n",
      "Requirement already satisfied: python-dateutil>=2.8.2 in c:\\users\\asus\\appdata\\local\\programs\\python\\python312\\lib\\site-packages (from pandas) (2.9.0.post0)\n",
      "Requirement already satisfied: pytz>=2020.1 in c:\\users\\asus\\appdata\\local\\programs\\python\\python312\\lib\\site-packages (from pandas) (2024.1)\n",
      "Requirement already satisfied: tzdata>=2022.7 in c:\\users\\asus\\appdata\\local\\programs\\python\\python312\\lib\\site-packages (from pandas) (2024.1)\n",
      "Requirement already satisfied: contourpy>=1.0.1 in c:\\users\\asus\\appdata\\local\\programs\\python\\python312\\lib\\site-packages (from matplotlib) (1.2.1)\n",
      "Requirement already satisfied: cycler>=0.10 in c:\\users\\asus\\appdata\\local\\programs\\python\\python312\\lib\\site-packages (from matplotlib) (0.12.1)\n",
      "Requirement already satisfied: fonttools>=4.22.0 in c:\\users\\asus\\appdata\\local\\programs\\python\\python312\\lib\\site-packages (from matplotlib) (4.53.1)\n",
      "Requirement already satisfied: kiwisolver>=1.3.1 in c:\\users\\asus\\appdata\\local\\programs\\python\\python312\\lib\\site-packages (from matplotlib) (1.4.5)\n",
      "Requirement already satisfied: packaging>=20.0 in c:\\users\\asus\\appdata\\local\\programs\\python\\python312\\lib\\site-packages (from matplotlib) (24.1)\n",
      "Requirement already satisfied: pillow>=8 in c:\\users\\asus\\appdata\\local\\programs\\python\\python312\\lib\\site-packages (from matplotlib) (10.4.0)\n",
      "Requirement already satisfied: pyparsing>=2.3.1 in c:\\users\\asus\\appdata\\local\\programs\\python\\python312\\lib\\site-packages (from matplotlib) (3.1.2)\n",
      "Requirement already satisfied: six>=1.5 in c:\\users\\asus\\appdata\\local\\programs\\python\\python312\\lib\\site-packages (from python-dateutil>=2.8.2->pandas) (1.16.0)\n",
      "Requirement already satisfied: MarkupSafe>=2.0 in c:\\users\\asus\\appdata\\local\\programs\\python\\python312\\lib\\site-packages (from jinja2->torch) (2.1.5)\n",
      "Note: you may need to restart the kernel to use updated packages.\n"
     ]
    }
   ],
   "source": [
    "pip install torch numpy pandas matplotlib"
   ]
  },
  {
   "cell_type": "markdown",
   "id": "b9ee7ff7-e49d-464b-b7ac-726ccea870d7",
   "metadata": {},
   "source": [
    "## Data Preprocessing"
   ]
  },
  {
   "cell_type": "code",
   "execution_count": 2,
   "id": "19b6d5b0-9006-444f-9c3a-142bebc72e01",
   "metadata": {},
   "outputs": [],
   "source": [
    "import pandas as pd\n",
    "import numpy as np\n",
    "\n",
    "# Load Reliance.csv\n",
    "data = pd.read_csv('RELIANCE.csv', parse_dates=['Date'], index_col='Date')\n",
    "# Use closing prices and compute returns for volatility\n",
    "prices = data['Close']\n",
    "returns = prices.pct_change().dropna()"
   ]
  },
  {
   "cell_type": "markdown",
   "id": "83c3598c-946d-431b-9342-70cc40d71bac",
   "metadata": {},
   "source": [
    "## Data Preparation"
   ]
  },
  {
   "cell_type": "code",
   "execution_count": 3,
   "id": "832e3518-638d-4fa8-8060-d72967d322c5",
   "metadata": {},
   "outputs": [],
   "source": [
    "import numpy as np\n",
    "import pandas as pd\n",
    "import torch\n",
    "\n",
    "# Synthetic time series\n",
    "time = np.arange(0, 400, 0.1)\n",
    "series = np.sin(0.02 * time) + 0.5 * np.random.randn(len(time))\n",
    "\n",
    "# Create input-output sequences\n",
    "def create_sequences(data, seq_len):\n",
    "    xs, ys = [], []\n",
    "    for i in range(len(data) - seq_len):\n",
    "        xs.append(data[i:i+seq_len])\n",
    "        ys.append(data[i+seq_len])\n",
    "    return np.array(xs), np.array(ys)\n",
    "\n",
    "seq_len = 20\n",
    "X, y = create_sequences(series, seq_len)\n",
    "X = torch.from_numpy(X).float().unsqueeze(-1)  # (batch, seq, 1)\n",
    "y = torch.from_numpy(y).float().unsqueeze(-1)  # (batch, 1)\n"
   ]
  },
  {
   "cell_type": "markdown",
   "id": "5ac398df-b278-45fe-a0b0-c59fe372856d",
   "metadata": {},
   "source": [
    "## Model Definition"
   ]
  },
  {
   "cell_type": "code",
   "execution_count": 4,
   "id": "a49605bc-7a85-4fd8-ae00-782d832279d2",
   "metadata": {},
   "outputs": [
    {
     "name": "stderr",
     "output_type": "stream",
     "text": [
      "C:\\Users\\asus\\AppData\\Local\\Programs\\Python\\Python312\\Lib\\site-packages\\torch\\nn\\modules\\transformer.py:385: UserWarning: enable_nested_tensor is True, but self.use_nested_tensor is False because encoder_layer.self_attn.batch_first was not True(use batch_first for better inference performance)\n",
      "  warnings.warn(\n"
     ]
    }
   ],
   "source": [
    "import torch.nn as nn\n",
    "\n",
    "class TimeSeriesTransformer(nn.Module):\n",
    "    def __init__(self, feature_size=1, num_layers=2, d_model=64,\n",
    "                 nhead=4, dim_feedforward=128, dropout=0.1):\n",
    "        super().__init__()\n",
    "        self.src_embedding = nn.Linear(feature_size, d_model)\n",
    "        self.pos_encoder = nn.Parameter(torch.zeros(1, seq_len, d_model))\n",
    "        encoder_layer = nn.TransformerEncoderLayer(\n",
    "            d_model=d_model, nhead=nhead,\n",
    "            dim_feedforward=dim_feedforward, dropout=dropout)\n",
    "        self.transformer_encoder = nn.TransformerEncoder(\n",
    "            encoder_layer, num_layers=num_layers)\n",
    "        self.decoder = nn.Linear(d_model, 1)\n",
    "\n",
    "    def forward(self, src):\n",
    "        # src shape: (batch, seq_len, feature_size)\n",
    "        x = self.src_embedding(src) + self.pos_encoder\n",
    "        # Transformer expects (seq_len, batch, d_model)\n",
    "        x = x.permute(1, 0, 2)\n",
    "        x = self.transformer_encoder(x)\n",
    "        x = x[-1, :, :]               # take last time step\n",
    "        out = self.decoder(x)         # (batch, 1)\n",
    "        return out\n",
    "\n",
    "model = TimeSeriesTransformer()  \n"
   ]
  },
  {
   "cell_type": "markdown",
   "id": "d28c24b0-1b19-482c-82e0-a2fc001ce643",
   "metadata": {},
   "source": [
    "## Training Loop"
   ]
  },
  {
   "cell_type": "code",
   "execution_count": 5,
   "id": "6aa9abbc-700c-4aae-9ff4-dae1fbb13d8e",
   "metadata": {
    "scrolled": true
   },
   "outputs": [
    {
     "name": "stdout",
     "output_type": "stream",
     "text": [
      "Epoch 1, Loss 0.2927\n",
      "Epoch 2, Loss 0.2793\n",
      "Epoch 3, Loss 0.2745\n",
      "Epoch 4, Loss 0.2760\n",
      "Epoch 5, Loss 0.2689\n",
      "Epoch 6, Loss 0.2704\n",
      "Epoch 7, Loss 0.2736\n",
      "Epoch 8, Loss 0.2715\n",
      "Epoch 9, Loss 0.2671\n",
      "Epoch 10, Loss 0.2696\n",
      "Epoch 11, Loss 0.2699\n",
      "Epoch 12, Loss 0.2712\n",
      "Epoch 13, Loss 0.2710\n",
      "Epoch 14, Loss 0.2659\n",
      "Epoch 15, Loss 0.2684\n",
      "Epoch 16, Loss 0.2640\n",
      "Epoch 17, Loss 0.2670\n",
      "Epoch 18, Loss 0.2660\n",
      "Epoch 19, Loss 0.2659\n",
      "Epoch 20, Loss 0.2628\n"
     ]
    }
   ],
   "source": [
    "from torch.utils.data import TensorDataset, DataLoader\n",
    "import torch.optim as optim\n",
    "\n",
    "dataset = TensorDataset(X, y)\n",
    "loader  = DataLoader(dataset, batch_size=32, shuffle=True)\n",
    "\n",
    "criterion = nn.MSELoss()\n",
    "optimizer = optim.Adam(model.parameters(), lr=1e-3)\n",
    "\n",
    "for epoch in range(20):\n",
    "    model.train()\n",
    "    total_loss = 0\n",
    "    for xb, yb in loader:\n",
    "        optimizer.zero_grad()\n",
    "        pred = model(xb)\n",
    "        loss = criterion(pred, yb)\n",
    "        loss.backward()\n",
    "        optimizer.step()\n",
    "        total_loss += loss.item()\n",
    "    print(f\"Epoch {epoch+1}, Loss {total_loss/len(loader):.4f}\")\n"
   ]
  },
  {
   "cell_type": "markdown",
   "id": "1277bfa2-fa6a-4824-9845-57623db5a7a4",
   "metadata": {},
   "source": [
    "## Evaluation"
   ]
  },
  {
   "cell_type": "code",
   "execution_count": 6,
   "id": "4311ca3d-616f-4633-b3c5-6492500f8523",
   "metadata": {},
   "outputs": [
    {
     "data": {
      "image/png": "[encoded data removed]",
      "text/plain": [
       "<Figure size 640x480 with 1 Axes>"
      ]
     },
     "metadata": {},
     "output_type": "display_data"
    }
   ],
   "source": [
    "model.eval()\n",
    "with torch.no_grad():\n",
    "    preds = model(X).squeeze().numpy()\n",
    "import matplotlib.pyplot as plt\n",
    "\n",
    "plt.plot(series[seq_len:], label='True')\n",
    "plt.plot(preds,    label='Predicted')\n",
    "plt.legend(); plt.show()"
   ]
  },
  {
   "cell_type": "markdown",
   "id": "0a26466f-b24b-4fa6-91d0-88706340fbbb",
   "metadata": {},
   "source": [
    "## Metrics"
   ]
  },
  {
   "cell_type": "code",
   "execution_count": 9,
   "id": "1c493717-490e-4526-89d6-ba61b5e12fe8",
   "metadata": {},
   "outputs": [
    {
     "name": "stdout",
     "output_type": "stream",
     "text": [
      "Transformer Model Accuracy Metrics:\n",
      "  R² Score (Accuracy)      : 0.6423\n",
      "  Mean Squared Error (MSE) : 0.2663\n",
      "  Root MSE (RMSE)          : 0.5160\n",
      "  Mean Absolute Error (MAE): 0.4109\n"
     ]
    }
   ],
   "source": [
    "import numpy as np\n",
    "import torch\n",
    "from sklearn.metrics import mean_squared_error, mean_absolute_error, r2_score\n",
    "\n",
    "# Ensure your model and data are on the correct device\n",
    "device = torch.device(\"cuda\" if torch.cuda.is_available() else \"cpu\")\n",
    "model.to(device)\n",
    "X = X.to(device)\n",
    "y = y.to(device)\n",
    "\n",
    "# Switch model to evaluation mode and disable gradient computation\n",
    "model.eval()\n",
    "with torch.no_grad():\n",
    "    # Generate predictions\n",
    "    preds = model(X).squeeze().cpu().numpy()  # (batch,) array of predictions\n",
    "    y_true = y.squeeze().cpu().numpy()        # (batch,) array of true values\n",
    "\n",
    "# Compute accuracy metrics\n",
    "mse = mean_squared_error(y_true, preds)\n",
    "rmse = np.sqrt(mse)\n",
    "mae = mean_absolute_error(y_true, preds)\n",
    "r2 = r2_score(y_true, preds)  # This is the accuracy score for regression\n",
    "\n",
    "# Print results\n",
    "print(f\"Transformer Model Accuracy Metrics:\")\n",
    "print(f\"  R² Score (Accuracy)      : {r2:.4f}\")\n",
    "print(f\"  Mean Squared Error (MSE) : {mse:.4f}\")\n",
    "print(f\"  Root MSE (RMSE)          : {rmse:.4f}\")\n",
    "print(f\"  Mean Absolute Error (MAE): {mae:.4f}\")"
   ]
  },
  {
   "cell_type": "code",
   "execution_count": 11,
   "id": "bf0b1b1c-4d2a-4057-898c-73dc982badc9",
   "metadata": {},
   "outputs": [],
   "source": [
    "from sklearn.metrics import f1_score\n",
    "\n",
    "# Direction encoding: 1 if increase, 0 otherwise\n",
    "true_direction = (y_true[1:] > y_true[:-1]).astype(int)\n",
    "pred_direction = (preds[1:] > y_true[:-1]).astype(int)\n",
    "\n",
    "# Compute F1 Score on direction prediction\n",
    "f1 = f1_score(true_direction, pred_direction, zero_division=1)\n"
   ]
  },
  {
   "cell_type": "code",
   "execution_count": null,
   "id": "0c42f253-a985-4b63-9ec3-b2f539186106",
   "metadata": {},
   "outputs": [],
   "source": []
  }
 ],
 "metadata": {
  "kernelspec": {
   "display_name": "Python 3 (ipykernel)",
   "language": "python",
   "name": "python3"
  },
  "language_info": {
   "codemirror_mode": {
    "name": "ipython",
    "version": 3
   },
   "file_extension": ".py",
   "mimetype": "text/x-python",
   "name": "python",
   "nbconvert_exporter": "python",
   "pygments_lexer": "ipython3",
   "version": "3.12.4"
  }
 },
 "nbformat": 4,
 "nbformat_minor": 5
}
