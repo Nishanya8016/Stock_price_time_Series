{
 "cells": [
  {
   "cell_type": "code",
   "execution_count": 4,
   "id": "3240138e-b06f-481a-bb98-f0540422605f",
   "metadata": {},
   "outputs": [],
   "source": [
    "import pandas as pd\n",
    "import numpy as np\n",
    "import matplotlib.pyplot as plt\n",
    "from prophet import Prophet\n",
    "from sklearn.metrics import mean_absolute_error, mean_squared_error, accuracy_score, f1_score, r2_score\n",
    "import math\n",
    "import warnings\n",
    "warnings.filterwarnings(\"ignore\")"
   ]
  },
  {
   "cell_type": "code",
   "execution_count": 5,
   "id": "103842bb-7e0a-47d0-8c96-a7c2b52978ef",
   "metadata": {},
   "outputs": [],
   "source": [
    "# Load data\n",
    "data = pd.read_csv(\"RELIANCE.csv\")\n",
    "data['Date'] = pd.to_datetime(data['Date'])\n",
    "data = data[['Date', 'Close']].dropna()\n",
    "data = data.sort_values('Date')"
   ]
  },
  {
   "cell_type": "code",
   "execution_count": 6,
   "id": "51c4ef75-1507-40f8-bac2-be194d1cc5ab",
   "metadata": {},
   "outputs": [],
   "source": [
    "# Prepare log returns for volatility\n",
    "data['LogReturn'] = np.log(data['Close'] / data['Close'].shift(1))\n",
    "data['RealizedVol'] = data['LogReturn'].rolling(window=5).apply(lambda x: np.sqrt(np.mean(x**2)))"
   ]
  },
  {
   "cell_type": "code",
   "execution_count": 7,
   "id": "60373698-ca12-4652-930f-d9f577e5c9a2",
   "metadata": {},
   "outputs": [],
   "source": [
    "# Rename for Prophet\n",
    "df = data[['Date', 'Close']].rename(columns={\"Date\": \"ds\", \"Close\": \"y\"})"
   ]
  },
  {
   "cell_type": "code",
   "execution_count": 8,
   "id": "e327c1fe-2377-436d-853c-46d16ea39266",
   "metadata": {},
   "outputs": [],
   "source": [
    "# Metric collectors\n",
    "mae_list, rmse_list = [], []\n",
    "acc_list, f1_list = [], []\n",
    "actual_prices, predicted_prices = [], []\n",
    "true_dirs, pred_dirs = [], []\n",
    "actual_vols, predicted_vols = [], []\n",
    "\n",
    "rolling_days = 30\n",
    "start_index = len(df) - rolling_days - 1"
   ]
  },
  {
   "cell_type": "code",
   "execution_count": 9,
   "id": "44094527-4a8c-4df8-998b-8e01c829ad8d",
   "metadata": {
    "scrolled": true
   },
   "outputs": [
    {
     "name": "stderr",
     "output_type": "stream",
     "text": [
      "15:22:29 - cmdstanpy - INFO - Chain [1] start processing\n",
      "15:22:32 - cmdstanpy - INFO - Chain [1] done processing\n",
      "15:22:32 - cmdstanpy - INFO - Chain [1] start processing\n",
      "15:22:34 - cmdstanpy - INFO - Chain [1] done processing\n",
      "15:22:35 - cmdstanpy - INFO - Chain [1] start processing\n",
      "15:22:36 - cmdstanpy - INFO - Chain [1] done processing\n",
      "15:22:37 - cmdstanpy - INFO - Chain [1] start processing\n",
      "15:22:39 - cmdstanpy - INFO - Chain [1] done processing\n",
      "15:22:40 - cmdstanpy - INFO - Chain [1] start processing\n",
      "15:22:41 - cmdstanpy - INFO - Chain [1] done processing\n",
      "15:22:42 - cmdstanpy - INFO - Chain [1] start processing\n",
      "15:22:43 - cmdstanpy - INFO - Chain [1] done processing\n",
      "15:22:44 - cmdstanpy - INFO - Chain [1] start processing\n",
      "15:22:46 - cmdstanpy - INFO - Chain [1] done processing\n",
      "15:22:47 - cmdstanpy - INFO - Chain [1] start processing\n",
      "15:22:49 - cmdstanpy - INFO - Chain [1] done processing\n",
      "15:22:49 - cmdstanpy - INFO - Chain [1] start processing\n",
      "15:22:51 - cmdstanpy - INFO - Chain [1] done processing\n",
      "15:22:52 - cmdstanpy - INFO - Chain [1] start processing\n",
      "15:22:54 - cmdstanpy - INFO - Chain [1] done processing\n",
      "15:22:55 - cmdstanpy - INFO - Chain [1] start processing\n",
      "15:22:56 - cmdstanpy - INFO - Chain [1] done processing\n",
      "15:22:57 - cmdstanpy - INFO - Chain [1] start processing\n",
      "15:22:58 - cmdstanpy - INFO - Chain [1] done processing\n",
      "15:22:59 - cmdstanpy - INFO - Chain [1] start processing\n",
      "15:23:01 - cmdstanpy - INFO - Chain [1] done processing\n",
      "15:23:02 - cmdstanpy - INFO - Chain [1] start processing\n",
      "15:23:04 - cmdstanpy - INFO - Chain [1] done processing\n",
      "15:23:05 - cmdstanpy - INFO - Chain [1] start processing\n",
      "15:23:06 - cmdstanpy - INFO - Chain [1] done processing\n",
      "15:23:07 - cmdstanpy - INFO - Chain [1] start processing\n",
      "15:23:09 - cmdstanpy - INFO - Chain [1] done processing\n",
      "15:23:10 - cmdstanpy - INFO - Chain [1] start processing\n",
      "15:23:11 - cmdstanpy - INFO - Chain [1] done processing\n",
      "15:23:12 - cmdstanpy - INFO - Chain [1] start processing\n",
      "15:23:14 - cmdstanpy - INFO - Chain [1] done processing\n",
      "15:23:15 - cmdstanpy - INFO - Chain [1] start processing\n",
      "15:23:18 - cmdstanpy - INFO - Chain [1] done processing\n",
      "15:23:19 - cmdstanpy - INFO - Chain [1] start processing\n",
      "15:23:20 - cmdstanpy - INFO - Chain [1] done processing\n",
      "15:23:21 - cmdstanpy - INFO - Chain [1] start processing\n",
      "15:23:24 - cmdstanpy - INFO - Chain [1] done processing\n",
      "15:23:25 - cmdstanpy - INFO - Chain [1] start processing\n",
      "15:23:26 - cmdstanpy - INFO - Chain [1] done processing\n",
      "15:23:27 - cmdstanpy - INFO - Chain [1] start processing\n",
      "15:23:29 - cmdstanpy - INFO - Chain [1] done processing\n",
      "15:23:30 - cmdstanpy - INFO - Chain [1] start processing\n",
      "15:23:32 - cmdstanpy - INFO - Chain [1] done processing\n",
      "15:23:33 - cmdstanpy - INFO - Chain [1] start processing\n",
      "15:23:35 - cmdstanpy - INFO - Chain [1] done processing\n",
      "15:23:36 - cmdstanpy - INFO - Chain [1] start processing\n",
      "15:23:38 - cmdstanpy - INFO - Chain [1] done processing\n",
      "15:23:39 - cmdstanpy - INFO - Chain [1] start processing\n",
      "15:23:41 - cmdstanpy - INFO - Chain [1] done processing\n",
      "15:23:41 - cmdstanpy - INFO - Chain [1] start processing\n",
      "15:23:43 - cmdstanpy - INFO - Chain [1] done processing\n",
      "15:23:44 - cmdstanpy - INFO - Chain [1] start processing\n",
      "15:23:46 - cmdstanpy - INFO - Chain [1] done processing\n",
      "15:23:47 - cmdstanpy - INFO - Chain [1] start processing\n",
      "15:23:49 - cmdstanpy - INFO - Chain [1] done processing\n"
     ]
    }
   ],
   "source": [
    "for i in range(start_index, len(df) - 1):\n",
    "    train = df[:i]  # up to current day\n",
    "\n",
    "    # Train Prophet\n",
    "    model = Prophet(daily_seasonality=True)\n",
    "    model.fit(train)\n",
    "\n",
    "    # Make prediction for next day\n",
    "    future = model.make_future_dataframe(periods=1)\n",
    "    forecast = model.predict(future)\n",
    "    \n",
    "    pred_price = forecast['yhat'].iloc[-1]\n",
    "    actual_price = df['y'].iloc[i + 1]\n",
    "    current_price = df['y'].iloc[i]\n",
    "\n",
    "    # Store price prediction metrics\n",
    "    actual_prices.append(actual_price)\n",
    "    predicted_prices.append(pred_price)\n",
    "    mae_list.append(mean_absolute_error([actual_price], [pred_price]))\n",
    "    rmse_list.append(math.sqrt(mean_squared_error([actual_price], [pred_price])))\n",
    "\n",
    "    # Direction metrics\n",
    "    true_dir = int(actual_price > current_price)\n",
    "    pred_dir = int(pred_price > current_price)\n",
    "    true_dirs.append(true_dir)\n",
    "    pred_dirs.append(pred_dir)\n",
    "    acc_list.append(accuracy_score([true_dir], [pred_dir]))\n",
    "    f1_list.append(f1_score([true_dir], [pred_dir], zero_division=1))\n",
    "\n",
    "    # Volatility (naive)\n",
    "    actual_vol = data['RealizedVol'].iloc[i + 1]\n",
    "    predicted_vol = data['RealizedVol'].iloc[i]\n",
    "    if np.isnan(actual_vol) or np.isnan(predicted_vol):\n",
    "        continue\n",
    "    actual_vols.append(actual_vol)\n",
    "    predicted_vols.append(predicted_vol)"
   ]
  },
  {
   "cell_type": "code",
   "execution_count": 12,
   "id": "2292ba11-0b2c-4f31-b7c0-e8b805590daa",
   "metadata": {},
   "outputs": [
    {
     "ename": "TypeError",
     "evalue": "got an unexpected keyword argument 'squared'",
     "output_type": "error",
     "traceback": [
      "\u001b[1;31m---------------------------------------------------------------------------\u001b[0m",
      "\u001b[1;31mTypeError\u001b[0m                                 Traceback (most recent call last)",
      "Cell \u001b[1;32mIn[12], line 2\u001b[0m\n\u001b[0;32m      1\u001b[0m \u001b[38;5;66;03m# Final volatility R² and RMSE\u001b[39;00m\n\u001b[1;32m----> 2\u001b[0m vol_rmse \u001b[38;5;241m=\u001b[39m \u001b[43mmean_squared_error\u001b[49m\u001b[43m(\u001b[49m\u001b[43mactual_vols\u001b[49m\u001b[43m,\u001b[49m\u001b[43m \u001b[49m\u001b[43mpredicted_vols\u001b[49m\u001b[43m,\u001b[49m\u001b[43m \u001b[49m\u001b[43msquared\u001b[49m\u001b[38;5;241;43m=\u001b[39;49m\u001b[38;5;28;43;01mFalse\u001b[39;49;00m\u001b[43m)\u001b[49m\n\u001b[0;32m      3\u001b[0m vol_r2 \u001b[38;5;241m=\u001b[39m r2_score(actual_vols, predicted_vols)\n",
      "File \u001b[1;32m~\\AppData\\Local\\Programs\\Python\\Python312\\Lib\\site-packages\\sklearn\\utils\\_param_validation.py:194\u001b[0m, in \u001b[0;36mvalidate_params.<locals>.decorator.<locals>.wrapper\u001b[1;34m(*args, **kwargs)\u001b[0m\n\u001b[0;32m    191\u001b[0m func_sig \u001b[38;5;241m=\u001b[39m signature(func)\n\u001b[0;32m    193\u001b[0m \u001b[38;5;66;03m# Map *args/**kwargs to the function signature\u001b[39;00m\n\u001b[1;32m--> 194\u001b[0m params \u001b[38;5;241m=\u001b[39m \u001b[43mfunc_sig\u001b[49m\u001b[38;5;241;43m.\u001b[39;49m\u001b[43mbind\u001b[49m\u001b[43m(\u001b[49m\u001b[38;5;241;43m*\u001b[39;49m\u001b[43margs\u001b[49m\u001b[43m,\u001b[49m\u001b[43m \u001b[49m\u001b[38;5;241;43m*\u001b[39;49m\u001b[38;5;241;43m*\u001b[39;49m\u001b[43mkwargs\u001b[49m\u001b[43m)\u001b[49m\n\u001b[0;32m    195\u001b[0m params\u001b[38;5;241m.\u001b[39mapply_defaults()\n\u001b[0;32m    197\u001b[0m \u001b[38;5;66;03m# ignore self/cls and positional/keyword markers\u001b[39;00m\n",
      "File \u001b[1;32m~\\AppData\\Local\\Programs\\Python\\Python312\\Lib\\inspect.py:3267\u001b[0m, in \u001b[0;36mSignature.bind\u001b[1;34m(self, *args, **kwargs)\u001b[0m\n\u001b[0;32m   3262\u001b[0m \u001b[38;5;28;01mdef\u001b[39;00m \u001b[38;5;21mbind\u001b[39m(\u001b[38;5;28mself\u001b[39m, \u001b[38;5;241m/\u001b[39m, \u001b[38;5;241m*\u001b[39margs, \u001b[38;5;241m*\u001b[39m\u001b[38;5;241m*\u001b[39mkwargs):\n\u001b[0;32m   3263\u001b[0m \u001b[38;5;250m    \u001b[39m\u001b[38;5;124;03m\"\"\"Get a BoundArguments object, that maps the passed `args`\u001b[39;00m\n\u001b[0;32m   3264\u001b[0m \u001b[38;5;124;03m    and `kwargs` to the function's signature.  Raises `TypeError`\u001b[39;00m\n\u001b[0;32m   3265\u001b[0m \u001b[38;5;124;03m    if the passed arguments can not be bound.\u001b[39;00m\n\u001b[0;32m   3266\u001b[0m \u001b[38;5;124;03m    \"\"\"\u001b[39;00m\n\u001b[1;32m-> 3267\u001b[0m     \u001b[38;5;28;01mreturn\u001b[39;00m \u001b[38;5;28;43mself\u001b[39;49m\u001b[38;5;241;43m.\u001b[39;49m\u001b[43m_bind\u001b[49m\u001b[43m(\u001b[49m\u001b[43margs\u001b[49m\u001b[43m,\u001b[49m\u001b[43m \u001b[49m\u001b[43mkwargs\u001b[49m\u001b[43m)\u001b[49m\n",
      "File \u001b[1;32m~\\AppData\\Local\\Programs\\Python\\Python312\\Lib\\inspect.py:3256\u001b[0m, in \u001b[0;36mSignature._bind\u001b[1;34m(self, args, kwargs, partial)\u001b[0m\n\u001b[0;32m   3246\u001b[0m         \u001b[38;5;28;01mraise\u001b[39;00m \u001b[38;5;167;01mTypeError\u001b[39;00m(\n\u001b[0;32m   3247\u001b[0m             \u001b[38;5;124m'\u001b[39m\u001b[38;5;124mgot some positional-only arguments passed as \u001b[39m\u001b[38;5;124m'\u001b[39m\n\u001b[0;32m   3248\u001b[0m             \u001b[38;5;124m'\u001b[39m\u001b[38;5;124mkeyword arguments: \u001b[39m\u001b[38;5;132;01m{arg!r}\u001b[39;00m\u001b[38;5;124m'\u001b[39m\u001b[38;5;241m.\u001b[39mformat(\n\u001b[1;32m   (...)\u001b[0m\n\u001b[0;32m   3253\u001b[0m             ),\n\u001b[0;32m   3254\u001b[0m         )\n\u001b[0;32m   3255\u001b[0m     \u001b[38;5;28;01melse\u001b[39;00m:\n\u001b[1;32m-> 3256\u001b[0m         \u001b[38;5;28;01mraise\u001b[39;00m \u001b[38;5;167;01mTypeError\u001b[39;00m(\n\u001b[0;32m   3257\u001b[0m             \u001b[38;5;124m'\u001b[39m\u001b[38;5;124mgot an unexpected keyword argument \u001b[39m\u001b[38;5;132;01m{arg!r}\u001b[39;00m\u001b[38;5;124m'\u001b[39m\u001b[38;5;241m.\u001b[39mformat(\n\u001b[0;32m   3258\u001b[0m                 arg\u001b[38;5;241m=\u001b[39m\u001b[38;5;28mnext\u001b[39m(\u001b[38;5;28miter\u001b[39m(kwargs))))\n\u001b[0;32m   3260\u001b[0m \u001b[38;5;28;01mreturn\u001b[39;00m \u001b[38;5;28mself\u001b[39m\u001b[38;5;241m.\u001b[39m_bound_arguments_cls(\u001b[38;5;28mself\u001b[39m, arguments)\n",
      "\u001b[1;31mTypeError\u001b[0m: got an unexpected keyword argument 'squared'"
     ]
    }
   ],
   "source": [
    "# Final volatility R² and RMSE\n",
    "vol_rmse = mean_squared_error(actual_vols, predicted_vols, squared=False)\n",
    "vol_r2 = r2_score(actual_vols, predicted_vols)"
   ]
  },
  {
   "cell_type": "code",
   "execution_count": 13,
   "id": "50f81031-fd6e-457f-b130-5a33c72b42bd",
   "metadata": {},
   "outputs": [
    {
     "name": "stdout",
     "output_type": "stream",
     "text": [
      " Prophet Rolling Evaluation Summary:\n",
      "\n",
      " Price Prediction: MAE = 210.6119, RMSE = 210.6119\n",
      " Direction Prediction: Accuracy = 0.5333, F1 = 0.5333\n"
     ]
    },
    {
     "ename": "NameError",
     "evalue": "name 'vol_rmse' is not defined",
     "output_type": "error",
     "traceback": [
      "\u001b[1;31m---------------------------------------------------------------------------\u001b[0m",
      "\u001b[1;31mNameError\u001b[0m                                 Traceback (most recent call last)",
      "Cell \u001b[1;32mIn[13], line 4\u001b[0m\n\u001b[0;32m      2\u001b[0m \u001b[38;5;28mprint\u001b[39m(\u001b[38;5;124mf\u001b[39m\u001b[38;5;124m\"\u001b[39m\u001b[38;5;124m Price Prediction: MAE = \u001b[39m\u001b[38;5;132;01m{\u001b[39;00mnp\u001b[38;5;241m.\u001b[39mmean(mae_list)\u001b[38;5;132;01m:\u001b[39;00m\u001b[38;5;124m.4f\u001b[39m\u001b[38;5;132;01m}\u001b[39;00m\u001b[38;5;124m, RMSE = \u001b[39m\u001b[38;5;132;01m{\u001b[39;00mnp\u001b[38;5;241m.\u001b[39mmean(rmse_list)\u001b[38;5;132;01m:\u001b[39;00m\u001b[38;5;124m.4f\u001b[39m\u001b[38;5;132;01m}\u001b[39;00m\u001b[38;5;124m\"\u001b[39m)\n\u001b[0;32m      3\u001b[0m \u001b[38;5;28mprint\u001b[39m(\u001b[38;5;124mf\u001b[39m\u001b[38;5;124m\"\u001b[39m\u001b[38;5;124m Direction Prediction: Accuracy = \u001b[39m\u001b[38;5;132;01m{\u001b[39;00mnp\u001b[38;5;241m.\u001b[39mmean(acc_list)\u001b[38;5;132;01m:\u001b[39;00m\u001b[38;5;124m.4f\u001b[39m\u001b[38;5;132;01m}\u001b[39;00m\u001b[38;5;124m, F1 = \u001b[39m\u001b[38;5;132;01m{\u001b[39;00mnp\u001b[38;5;241m.\u001b[39mmean(f1_list)\u001b[38;5;132;01m:\u001b[39;00m\u001b[38;5;124m.4f\u001b[39m\u001b[38;5;132;01m}\u001b[39;00m\u001b[38;5;124m\"\u001b[39m)\n\u001b[1;32m----> 4\u001b[0m \u001b[38;5;28mprint\u001b[39m(\u001b[38;5;124mf\u001b[39m\u001b[38;5;124m\"\u001b[39m\u001b[38;5;124m Volatility Prediction: RMSE = \u001b[39m\u001b[38;5;132;01m{\u001b[39;00m\u001b[43mvol_rmse\u001b[49m\u001b[38;5;132;01m:\u001b[39;00m\u001b[38;5;124m.6f\u001b[39m\u001b[38;5;132;01m}\u001b[39;00m\u001b[38;5;124m, R² = \u001b[39m\u001b[38;5;132;01m{\u001b[39;00mvol_r2\u001b[38;5;132;01m:\u001b[39;00m\u001b[38;5;124m.4f\u001b[39m\u001b[38;5;132;01m}\u001b[39;00m\u001b[38;5;124m\"\u001b[39m)\n",
      "\u001b[1;31mNameError\u001b[0m: name 'vol_rmse' is not defined"
     ]
    }
   ],
   "source": [
    "print(\" Prophet Rolling Evaluation Summary:\\n\")\n",
    "print(f\" Price Prediction: MAE = {np.mean(mae_list):.4f}, RMSE = {np.mean(rmse_list):.4f}\")\n",
    "print(f\" Direction Prediction: Accuracy = {np.mean(acc_list):.4f}, F1 = {np.mean(f1_list):.4f}\")\n",
    "print(f\" Volatility Prediction: RMSE = {vol_rmse:.6f}, R² = {vol_r2:.4f}\")"
   ]
  },
  {
   "cell_type": "code",
   "execution_count": null,
   "id": "537c61f1-01ca-4083-a012-c8443759510e",
   "metadata": {},
   "outputs": [],
   "source": []
  }
 ],
 "metadata": {
  "kernelspec": {
   "display_name": "Python 3 (ipykernel)",
   "language": "python",
   "name": "python3"
  },
  "language_info": {
   "codemirror_mode": {
    "name": "ipython",
    "version": 3
   },
   "file_extension": ".py",
   "mimetype": "text/x-python",
   "name": "python",
   "nbconvert_exporter": "python",
   "pygments_lexer": "ipython3",
   "version": "3.12.4"
  }
 },
 "nbformat": 4,
 "nbformat_minor": 5
}
